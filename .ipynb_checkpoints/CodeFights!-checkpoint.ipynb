{
 "cells": [
  {
   "cell_type": "markdown",
   "metadata": {},
   "source": [
    "# CODE FIGHT INTERVIEW PROBLEMS\n",
    "\n",
    "This notebook details my work in completing the \"interview\" practice coding problems at codefights.com.\n",
    "\n",
    "I will try to be as detailed about my approach to the question by leaving iterations on the algorithm and notes about hints or google searches I had to do. I'll also try to track the time it takes me to finish each.\n",
    "\n",
    "Hopefully this notebook either shows off my coding ability or much more likely shows a trend of improvement in my ability as I progress through the notebook :D\n",
    "\n",
    "***\n",
    "\n",
    "**update 2/20/2018:**\n",
    "\n",
    "I've been using the following format when approaching each problem:\n",
    "\n",
    "1. State the problem\n",
    "\n",
    "2. Show the code for my solution (with timing)\n",
    "\n",
    "3. Walk through my thoughts about my solution\n",
    "\n",
    "4. Show highest voted user submitted solution (with timing)\n",
    "\n",
    "5. Walk through my thoughts on this top solution\n",
    "\n",
    "6. List some \"quick facts\" to conclude my results on the problem\n",
    "\n",
    "I'll try to stick to this format for each question so the notebook is easy to read / flows better.\n",
    "\n",
    "***"
   ]
  },
  {
   "cell_type": "markdown",
   "metadata": {},
   "source": [
    "<hr style=\"background-color: black; padding: 1px;\">\n"
   ]
  },
  {
   "cell_type": "markdown",
   "metadata": {},
   "source": [
    "<a id=\"toc\"></a>\n",
    "\n",
    "## Table of Contents\n",
    "<ul>\n",
    "\n",
    "    <li><a href=\"#topic1\">Arrays</a></li>\n",
    "        <ol>\n",
    "            <li><a href=\"#question1_1\">firstDuplicate</a></li>\n",
    "            <li><a href=\"#question1_2\">firstNotRepeatingCharacter</a></li>\n",
    "            <li><a href=\"#question1_3\">rotateImage</a></li>\n",
    "            <li><a href=\"#question1_4\">sudoku2</a></li>\n",
    "            <li><a href=\"#question1_5\">isCryptSolution</a></li>\n",
    "        </ol>\n",
    "    <br>\n",
    "    <li><a href=\"#topic2\">Linked Lists</a></li>\n",
    "        <ol>\n",
    "            <li><a href=\"#question2_1\">removeKFromList</a></li>\n",
    "\n",
    "        </ol>    \n",
    "\n",
    "</ul>"
   ]
  },
  {
   "cell_type": "code",
   "execution_count": 4,
   "metadata": {
    "collapsed": true
   },
   "outputs": [],
   "source": [
    "# some basic imports that will be helpful\n",
    "import numpy as np\n",
    "import timeit"
   ]
  },
  {
   "cell_type": "markdown",
   "metadata": {},
   "source": [
    "<hr style=\"background-color: black; padding: 1px;\">\n"
   ]
  },
  {
   "cell_type": "markdown",
   "metadata": {},
   "source": [
    "<a id='topic1'></a>\n",
    "\n",
    "\n",
    "# Arrays\n",
    "\n",
    "***"
   ]
  },
  {
   "cell_type": "markdown",
   "metadata": {},
   "source": [
    "<div align=\"right\">\n",
    "    <a href=\"#toc\">back to top</a>\n",
    "</div>\n",
    "\n",
    "<a id='question1_1'></a>\n",
    "\n",
    "### Question 1 - firstDuplicate\n",
    "\n",
    "Given an array of integers `a`, find the first duplicate in the array. If no duplicate exists, return -1. \n",
    "\n",
    "Note: `len(a)<=100,000` and `a[i]<=len(a)`\n",
    "\n",
    "Your solution must be $O(n)$ time complexity and as a challenge, try to make it $O(1)$ space complexity."
   ]
  },
  {
   "cell_type": "markdown",
   "metadata": {},
   "source": [
    "#### First try"
   ]
  },
  {
   "cell_type": "code",
   "execution_count": 112,
   "metadata": {},
   "outputs": [
    {
     "name": "stdout",
     "output_type": "stream",
     "text": [
      "1.5886552864685654e-06\n"
     ]
    }
   ],
   "source": [
    "test_array = [1,2,3,2,1]\n",
    "\n",
    "def firstDuplicate(a):\n",
    "    tmp = []\n",
    "    for num in a:\n",
    "        if num in tmp:\n",
    "            return num\n",
    "        tmp.append(num)\n",
    "    return -1\n",
    "\n",
    "#firstDuplicate(test_array)\n",
    "\n",
    "if __name__=='__main__':\n",
    "    print(timeit.timeit(\"firstDuplicate(test)\", \"from __main__ import firstDuplicate, test_array\", number=100)/100)"
   ]
  },
  {
   "cell_type": "markdown",
   "metadata": {},
   "source": [
    "The above algorithm solves the problem but it requires anywhere from $O(1)$ to $O(n)$ space complexity and in the worst scenario (no duplicates) has $O(n^2)$ time complexity.\n",
    "\n",
    "I couldn't think of a way to not make two loops so I looked at a hint to realize I should declare the length of the array instead of filling as a I go."
   ]
  },
  {
   "cell_type": "markdown",
   "metadata": {},
   "source": [
    "#### Second try - w/ 1 hint"
   ]
  },
  {
   "cell_type": "code",
   "execution_count": 118,
   "metadata": {},
   "outputs": [
    {
     "data": {
      "text/plain": [
       "-1"
      ]
     },
     "execution_count": 118,
     "metadata": {},
     "output_type": "execute_result"
    }
   ],
   "source": [
    "test = [1,2,3,5,6]\n",
    "#test = [i for i in range(100000)]\n",
    "\n",
    "def firstDuplicate(a):\n",
    "    tmp = [0]*100000\n",
    "    for num in a:\n",
    "        if tmp[num-1]:\n",
    "            return num\n",
    "        else:\n",
    "            tmp[num-1] = 1\n",
    "    return -1\n",
    "\n",
    "firstDuplicate(test)\n",
    "# if __name__=='__main__':\n",
    "#     print(timeit.timeit(\"firstDuplicate(test)\", \"from __main__ import firstDuplicate, test\", number=100)/100)"
   ]
  },
  {
   "cell_type": "markdown",
   "metadata": {},
   "source": [
    "This second try also solves the problem but now does so in $O(n)$ time. My naive first try actually performs better than this second try in situations where there is a duplicate that occurs relatively quickly in the array. Without testing why, I would guess that initializing `tmp = []` is much faster than executing `tmp = [0]*100000` and that causes the speed boost for easy cases. Unfortunately this is still $O(n)$ space not $O(1)$."
   ]
  },
  {
   "cell_type": "markdown",
   "metadata": {},
   "source": [
    "#### Better answer (I didn't think of this)"
   ]
  },
  {
   "cell_type": "code",
   "execution_count": null,
   "metadata": {
    "collapsed": true
   },
   "outputs": [],
   "source": [
    "def firstDuplicate(a):\n",
    "    for i in a:\n",
    "        a[abs(i)-1] *= -1\n",
    "        if a[abs(i)-1] > 0:\n",
    "            return abs(i)\n",
    "    return -1"
   ]
  },
  {
   "cell_type": "markdown",
   "metadata": {},
   "source": [
    "This answer is both $O(n)$ time and $O(1)$ space. Because we only need duplicates (a binary idea), this solution uses negative signs and absolute values to encode whether or not a number has been seen right into the index of the array. Very clever..."
   ]
  },
  {
   "cell_type": "markdown",
   "metadata": {},
   "source": [
    "### Arrays Q1 - Final results\n",
    "\n",
    "**Date of completion:** 2/8/2018\n",
    "\n",
    "**Time to completion:** 3 hours\n",
    "\n",
    "**Hints used:** 2\n",
    "\n",
    "**Google search used:** No\n",
    "\n",
    "**All space/time challenges completed:** No"
   ]
  },
  {
   "cell_type": "markdown",
   "metadata": {},
   "source": [
    "<hr style=\"background-color: #D3D3D3; padding: 0.75px;\">"
   ]
  },
  {
   "cell_type": "markdown",
   "metadata": {
    "collapsed": true
   },
   "source": [
    "<div align=\"right\">\n",
    "    <a href=\"#toc\">back to top</a>\n",
    "</div>\n",
    "\n",
    "<a id='question1_2'></a>\n",
    "\n",
    "### Question 2 - firstNotRepeatingCharacter\n",
    "\n",
    "Given a string `s`, find the first non-repeat character. Should be $O(n)$ time and $O(1)$ space.\n",
    "\n",
    "`len(s) < 10^5`\n",
    "\n",
    "For example, `s = \"abacabad\"` should return `'c'`. If all characters repeat then you should return `_`.\n",
    "\n",
    "Constraints: string will only have lowercase letters and will be between 1 and 100,000 characters long.\n",
    "\n"
   ]
  },
  {
   "cell_type": "markdown",
   "metadata": {},
   "source": [
    "#### My answer"
   ]
  },
  {
   "cell_type": "code",
   "execution_count": 145,
   "metadata": {},
   "outputs": [
    {
     "name": "stdout",
     "output_type": "stream",
     "text": [
      "0.09784615461161593\n"
     ]
    }
   ],
   "source": [
    "test = \"a\"*100000\n",
    "\n",
    "def firstNotRepeatingCharacter(s):\n",
    "    \n",
    "    alphabet = []\n",
    "    \n",
    "    for letter in s:\n",
    "        \n",
    "        check = False\n",
    "        num = ord(letter)\n",
    "        \n",
    "        for i,val in enumerate(alphabet):\n",
    "            if num == abs(val):\n",
    "                alphabet[i] = abs(alphabet[i])*-1\n",
    "                check = True\n",
    "        \n",
    "        if check == False:\n",
    "            alphabet.append(num)\n",
    "            \n",
    "    for num in alphabet:\n",
    "        if num > 0:\n",
    "            return chr(num)\n",
    "        \n",
    "    return \"_\"\n",
    "\n",
    "\n",
    "#firstNotRepeatingCharacter(test)        \n",
    "if __name__=='__main__':\n",
    "    print(timeit.timeit(\"firstNotRepeatingCharacter(test)\", \"from __main__ import firstNotRepeatingCharacter, test\", \n",
    "                        number=100)/100)"
   ]
  },
  {
   "cell_type": "markdown",
   "metadata": {},
   "source": [
    "This algorithm passed all tests and is technically $O(n)$ time and $O(1)$ space. I don't like how many lines of code it contains as I feel there is some redundancy or unecessary check steps being performed. The hint I received told me that making a list of size independent of n is still O(1) additional space. I was already using that idea before the hint but it was nice confirmation that I was in the right direction. I also had to google the ord() chr() functions... I was initially trying to do int(\"a\") forgetting that what I wanted was ord()."
   ]
  },
  {
   "cell_type": "markdown",
   "metadata": {},
   "source": [
    "#### Top user answer on Codefights website (not my answer)"
   ]
  },
  {
   "cell_type": "code",
   "execution_count": 144,
   "metadata": {},
   "outputs": [
    {
     "name": "stdout",
     "output_type": "stream",
     "text": [
      "0.0536231142852921\n"
     ]
    }
   ],
   "source": [
    "test = \"a\"*100000\n",
    "\n",
    "def firstNotRepeatingCharacter(s):\n",
    "    for c in s:\n",
    "        if s.find(c) == s.rfind(c):\n",
    "            return c\n",
    "    return '_'\n",
    "\n",
    "#firstNotRepeatingCharacter(test)        \n",
    "if __name__=='__main__':\n",
    "    print(timeit.timeit(\"firstNotRepeatingCharacter(test)\", \"from __main__ import firstNotRepeatingCharacter, test\", \n",
    "                        number=100)/100)"
   ]
  },
  {
   "cell_type": "markdown",
   "metadata": {},
   "source": [
    "This answer is much more concise. I did not know about python's rfind() prior to seeing this solution. However, the logic of this concise answer is essentially \"for each letter in our test string, look through the whole string starting from the back to find a duplicate. When you don't find a duplicate, return\". I don't think this solution is $O(n)$ time and thus not a valid answer."
   ]
  },
  {
   "cell_type": "markdown",
   "metadata": {},
   "source": [
    "### Arrays Q2 - Final results\n",
    "\n",
    "**Date of completion:** 2/8/2018\n",
    "\n",
    "**Time to completion:** 45 minutes\n",
    "\n",
    "**Hints used:** 1\n",
    "\n",
    "**Google search used:** Yes\n",
    "\n",
    "**All space/time challenges completed:** Yes"
   ]
  },
  {
   "cell_type": "markdown",
   "metadata": {},
   "source": [
    "<hr style=\"background-color: #D3D3D3; padding: 0.75px;\">"
   ]
  },
  {
   "cell_type": "markdown",
   "metadata": {},
   "source": [
    "<div align=\"right\">\n",
    "    <a href=\"#toc\">back to top</a>\n",
    "</div>\n",
    "\n",
    "<a id='question1_3'></a>\n",
    "\n",
    "### Question 3 - rotateImage\n",
    "\n",
    "Note: Try to solve this task in-place (with O(1) additional memory), since this is what you'll be asked to do during an interview.\n",
    "\n",
    "You are given an n x n 2D matrix that represents an image. Rotate the image by 90 degrees (clockwise).\n",
    "\n",
    "Guaranteed constraints:\n",
    "1 ≤ a.length ≤ 100,\n",
    "a[i].length = a.length,\n",
    "1 ≤ a[i][j] ≤ 104."
   ]
  },
  {
   "cell_type": "markdown",
   "metadata": {},
   "source": [
    "#### My answer"
   ]
  },
  {
   "cell_type": "code",
   "execution_count": 20,
   "metadata": {},
   "outputs": [
    {
     "name": "stdout",
     "output_type": "stream",
     "text": [
      "4.2508001206442715e-06\n"
     ]
    }
   ],
   "source": [
    "a = [[1, 2, 3],\n",
    "     [4, 5, 6],\n",
    "     [7, 8, 9]]\n",
    "\n",
    "\n",
    "def rotateImage(a):\n",
    "\n",
    "    rotated = [[] for i in range((len(a)))]\n",
    "    side_length = len(a)\n",
    "    \n",
    "    for index1,value in enumerate(reversed(a)):\n",
    "        for index2 in range(side_length):\n",
    "            rotated[index2].append(value[index2])\n",
    "    return rotated\n",
    "\n",
    "#rotateImage(a)\n",
    "\n",
    "if __name__=='__main__':\n",
    "    print(timeit.timeit(\"rotateImage(a)\", \"from __main__ import rotateImage, a\", \n",
    "                        number=100)/100)"
   ]
  },
  {
   "cell_type": "markdown",
   "metadata": {},
   "source": [
    "This solution passed all tests. The runtime is $O(n^2)$, which is understandable for a simple matrix manipulation task. There was no constraint on the time complexity, but this algorithm does not meet the $O(1)$ space constraint that was specified. Also, I required a google search to remember that `reversed()` is the function to loop backward through a list."
   ]
  },
  {
   "cell_type": "markdown",
   "metadata": {},
   "source": [
    "#### Top user submitted solution (not mine)"
   ]
  },
  {
   "cell_type": "code",
   "execution_count": 21,
   "metadata": {},
   "outputs": [
    {
     "name": "stdout",
     "output_type": "stream",
     "text": [
      "3.1165601103566588e-06\n"
     ]
    }
   ],
   "source": [
    "a = [[1, 2, 3],\n",
    "     [4, 5, 6],\n",
    "     [7, 8, 9]]\n",
    "\n",
    "def rotateImage(a):\n",
    "    return [[x[i] for x in a][::-1] for i in range(len(a))]\n",
    "\n",
    "#rotateImage(a)\n",
    "\n",
    "if __name__=='__main__':\n",
    "    print(timeit.timeit(\"rotateImage(a)\", \"from __main__ import rotateImage, a\", \n",
    "                        number=100)/100)"
   ]
  },
  {
   "cell_type": "markdown",
   "metadata": {},
   "source": [
    "As you can see this solution is both more elegant (one clean line of code) and meets the $O(1)$ space constraint from the problem. Instead of creating a new image matrix and filling it as I did, this solution directly outputs the rotated matrix.\n",
    "\n",
    "The `[::-1]` allows reverse traversal through the matrix (instead of `reversed()`)."
   ]
  },
  {
   "cell_type": "markdown",
   "metadata": {},
   "source": [
    "### Arrays Q3 - Final results\n",
    "\n",
    "**Date of completion:** 2/8/2018\n",
    "\n",
    "**Time to completion:** 30 minutes\n",
    "\n",
    "**Hints used:** 0\n",
    "\n",
    "**Google search used:** Yes\n",
    "\n",
    "**All space/time challenges completed:** No"
   ]
  },
  {
   "cell_type": "markdown",
   "metadata": {},
   "source": [
    "<hr style=\"background-color: #D3D3D3; padding: 0.75px;\">"
   ]
  },
  {
   "cell_type": "markdown",
   "metadata": {},
   "source": [
    "<div align=\"right\">\n",
    "    <a href=\"#toc\">back to top</a>\n",
    "</div>\n",
    "\n",
    "<a id='question1_4'></a>\n",
    "\n",
    "### Question 4 - sudoku2\n",
    "\n",
    "Implement an algorithm that will check whether the given grid of numbers represents a valid Sudoku puzzle according to the layout rules described above (standard sudoku rules). Note that the puzzle represented by grid does not have to be solvable.\n",
    "\n",
    "[input] array.array.char grid:\n",
    "\n",
    "A 9 × 9 array of characters, in which each character is either a digit from '1' to '9' or a period '.'.\n",
    "\n",
    "[output] boolean:\n",
    "\n",
    "Return true if grid represents a valid Sudoku puzzle, otherwise return false."
   ]
  },
  {
   "cell_type": "markdown",
   "metadata": {},
   "source": [
    "#### My answer"
   ]
  },
  {
   "cell_type": "code",
   "execution_count": 26,
   "metadata": {},
   "outputs": [
    {
     "name": "stdout",
     "output_type": "stream",
     "text": [
      "All tests passed!\n"
     ]
    }
   ],
   "source": [
    "grid = [['.', '.', '.', '1', '4', '.', '.', '2', '.'],\n",
    "        ['.', '.', '6', '.', '.', '.', '.', '.', '.'],\n",
    "        ['.', '.', '.', '.', '.', '.', '.', '.', '.'],\n",
    "        ['.', '.', '1', '.', '.', '.', '.', '.', '.'],\n",
    "        ['.', '6', '7', '.', '.', '.', '.', '.', '9'],\n",
    "        ['.', '.', '.', '.', '.', '.', '8', '1', '.'],\n",
    "        ['.', '3', '.', '.', '.', '.', '.', '.', '6'],\n",
    "        ['.', '.', '.', '.', '.', '7', '.', '.', '.'],\n",
    "        ['.', '.', '.', '5', '.', '.', '.', '7', '.']]\n",
    "\n",
    "\n",
    "grid2 = [[\".\",\".\",\".\",\".\",\"2\",\".\",\".\",\"9\",\".\"], \n",
    " [\".\",\".\",\".\",\".\",\"6\",\".\",\".\",\".\",\".\"], \n",
    " [\"7\",\"1\",\".\",\".\",\"7\",\"5\",\".\",\".\",\".\"], \n",
    " [\".\",\"7\",\".\",\".\",\".\",\".\",\".\",\".\",\".\"], \n",
    " [\".\",\".\",\".\",\".\",\"8\",\"3\",\".\",\".\",\".\"], \n",
    " [\".\",\".\",\"8\",\".\",\".\",\"7\",\".\",\"6\",\".\"], \n",
    " [\".\",\".\",\".\",\".\",\".\",\"2\",\".\",\".\",\".\"], \n",
    " [\".\",\"1\",\".\",\"2\",\".\",\".\",\".\",\".\",\".\"], \n",
    " [\".\",\"2\",\".\",\".\",\"3\",\".\",\".\",\".\",\".\"]]\n",
    "\n",
    "grid3 = [[\".\",\".\",\".\",\".\",\".\",\".\",\".\",\".\",\"2\"], \n",
    " [\".\",\".\",\".\",\".\",\".\",\".\",\"6\",\".\",\".\"], \n",
    " [\".\",\".\",\"1\",\"4\",\".\",\".\",\"8\",\".\",\".\"], \n",
    " [\".\",\".\",\".\",\".\",\".\",\".\",\".\",\".\",\".\"], \n",
    " [\".\",\".\",\".\",\".\",\".\",\".\",\".\",\".\",\".\"], \n",
    " [\".\",\".\",\".\",\".\",\"3\",\".\",\".\",\".\",\".\"], \n",
    " [\"5\",\".\",\"8\",\"6\",\".\",\".\",\".\",\".\",\".\"], \n",
    " [\".\",\"9\",\".\",\".\",\".\",\".\",\"4\",\".\",\".\"], \n",
    " [\".\",\".\",\".\",\".\",\"5\",\".\",\".\",\".\",\".\"]]\n",
    "\n",
    "\n",
    "def sudoku2(grid):\n",
    "    \n",
    "    subgrids = [[] for i in range(9)]\n",
    "    check_row = 0\n",
    "\n",
    "    for i in range(9):\n",
    "        check_col = 0\n",
    "        if i != 0 and i % 3 == 0:\n",
    "            check_row = i\n",
    "        for j in range(9):\n",
    "            if j != 0 and j % 3 == 0:\n",
    "                check_col += 1\n",
    "            if grid[i][j] != \".\":\n",
    "                subgrids[check_col+check_row].append(grid[i][j])\n",
    "\n",
    "    for values in subgrids:\n",
    "        if len(set(values)) != len(values):\n",
    "            return False\n",
    "    \n",
    "    for i in range(9):\n",
    "        for j in range(9):\n",
    "            value = grid[i][j]\n",
    "            surrounding = []\n",
    "            if value == '.':\n",
    "                continue\n",
    "            if j < 8:\n",
    "                surrounding = grid[i][j+1:]\n",
    "            if i < 8:\n",
    "                for number in range(i+1,9):\n",
    "                    surrounding.append(grid[number][j])\n",
    "            if value in surrounding:\n",
    "                return False\n",
    "            \n",
    "    return True\n",
    "  \n",
    "assert sudoku2(grid)==True\n",
    "assert sudoku2(grid2)==False\n",
    "assert sudoku2(grid3)==True\n",
    "print(\"All tests passed!\")"
   ]
  },
  {
   "cell_type": "markdown",
   "metadata": {},
   "source": [
    "This solution passes all tests but as with my previous solutions isn't as elegant as I'd like. The time complexity of this algorithm isn't amazing but because the sudoku grid is a fixed value, we don't need to be as concerned about the scaling ability of this algorithm."
   ]
  },
  {
   "cell_type": "markdown",
   "metadata": {},
   "source": [
    "#### Top user answer (not mine):"
   ]
  },
  {
   "cell_type": "code",
   "execution_count": 28,
   "metadata": {},
   "outputs": [
    {
     "ename": "TypeError",
     "evalue": "'zip' object is not subscriptable",
     "output_type": "error",
     "traceback": [
      "\u001b[1;31m---------------------------------------------------------------------------\u001b[0m",
      "\u001b[1;31mTypeError\u001b[0m                                 Traceback (most recent call last)",
      "\u001b[1;32m<ipython-input-28-6d75669d8950>\u001b[0m in \u001b[0;36m<module>\u001b[1;34m()\u001b[0m\n\u001b[0;32m     46\u001b[0m \u001b[1;33m\u001b[0m\u001b[0m\n\u001b[0;32m     47\u001b[0m \u001b[1;33m\u001b[0m\u001b[0m\n\u001b[1;32m---> 48\u001b[1;33m \u001b[1;32massert\u001b[0m \u001b[0msudoku2\u001b[0m\u001b[1;33m(\u001b[0m\u001b[0mgrid\u001b[0m\u001b[1;33m)\u001b[0m\u001b[1;33m==\u001b[0m\u001b[1;32mTrue\u001b[0m\u001b[1;33m\u001b[0m\u001b[0m\n\u001b[0m\u001b[0;32m     49\u001b[0m \u001b[1;32massert\u001b[0m \u001b[0msudoku2\u001b[0m\u001b[1;33m(\u001b[0m\u001b[0mgrid2\u001b[0m\u001b[1;33m)\u001b[0m\u001b[1;33m==\u001b[0m\u001b[1;32mFalse\u001b[0m\u001b[1;33m\u001b[0m\u001b[0m\n\u001b[0;32m     50\u001b[0m \u001b[1;32massert\u001b[0m \u001b[0msudoku2\u001b[0m\u001b[1;33m(\u001b[0m\u001b[0mgrid3\u001b[0m\u001b[1;33m)\u001b[0m\u001b[1;33m==\u001b[0m\u001b[1;32mTrue\u001b[0m\u001b[1;33m\u001b[0m\u001b[0m\n",
      "\u001b[1;32m<ipython-input-28-6d75669d8950>\u001b[0m in \u001b[0;36msudoku2\u001b[1;34m(grid)\u001b[0m\n\u001b[0;32m     43\u001b[0m                    for r in range(3) for c in range(3)]\n\u001b[0;32m     44\u001b[0m \u001b[1;33m\u001b[0m\u001b[0m\n\u001b[1;32m---> 45\u001b[1;33m     \u001b[1;32mreturn\u001b[0m \u001b[0mall\u001b[0m\u001b[1;33m(\u001b[0m\u001b[0munique\u001b[0m\u001b[1;33m(\u001b[0m\u001b[0mgrp\u001b[0m\u001b[1;33m)\u001b[0m \u001b[1;32mfor\u001b[0m \u001b[0mgrp\u001b[0m \u001b[1;32min\u001b[0m \u001b[0mgroups\u001b[0m\u001b[1;33m(\u001b[0m\u001b[0mgrid\u001b[0m\u001b[1;33m)\u001b[0m\u001b[1;33m)\u001b[0m\u001b[1;33m\u001b[0m\u001b[0m\n\u001b[0m\u001b[0;32m     46\u001b[0m \u001b[1;33m\u001b[0m\u001b[0m\n\u001b[0;32m     47\u001b[0m \u001b[1;33m\u001b[0m\u001b[0m\n",
      "\u001b[1;32m<ipython-input-28-6d75669d8950>\u001b[0m in \u001b[0;36m<genexpr>\u001b[1;34m(.0)\u001b[0m\n\u001b[0;32m     43\u001b[0m                    for r in range(3) for c in range(3)]\n\u001b[0;32m     44\u001b[0m \u001b[1;33m\u001b[0m\u001b[0m\n\u001b[1;32m---> 45\u001b[1;33m     \u001b[1;32mreturn\u001b[0m \u001b[0mall\u001b[0m\u001b[1;33m(\u001b[0m\u001b[0munique\u001b[0m\u001b[1;33m(\u001b[0m\u001b[0mgrp\u001b[0m\u001b[1;33m)\u001b[0m \u001b[1;32mfor\u001b[0m \u001b[0mgrp\u001b[0m \u001b[1;32min\u001b[0m \u001b[0mgroups\u001b[0m\u001b[1;33m(\u001b[0m\u001b[0mgrid\u001b[0m\u001b[1;33m)\u001b[0m\u001b[1;33m)\u001b[0m\u001b[1;33m\u001b[0m\u001b[0m\n\u001b[0m\u001b[0;32m     46\u001b[0m \u001b[1;33m\u001b[0m\u001b[0m\n\u001b[0;32m     47\u001b[0m \u001b[1;33m\u001b[0m\u001b[0m\n",
      "\u001b[1;32m<ipython-input-28-6d75669d8950>\u001b[0m in \u001b[0;36mgroups\u001b[1;34m(A)\u001b[0m\n\u001b[0;32m     39\u001b[0m         \u001b[1;32mfor\u001b[0m \u001b[0mv\u001b[0m \u001b[1;32min\u001b[0m \u001b[0mrange\u001b[0m\u001b[1;33m(\u001b[0m\u001b[1;36m9\u001b[0m\u001b[1;33m)\u001b[0m\u001b[1;33m:\u001b[0m\u001b[1;33m\u001b[0m\u001b[0m\n\u001b[0;32m     40\u001b[0m             \u001b[1;32myield\u001b[0m \u001b[0mA\u001b[0m\u001b[1;33m[\u001b[0m\u001b[0mv\u001b[0m\u001b[1;33m]\u001b[0m\u001b[1;33m\u001b[0m\u001b[0m\n\u001b[1;32m---> 41\u001b[1;33m             \u001b[1;32myield\u001b[0m \u001b[0mB\u001b[0m\u001b[1;33m[\u001b[0m\u001b[0mv\u001b[0m\u001b[1;33m]\u001b[0m\u001b[1;33m\u001b[0m\u001b[0m\n\u001b[0m\u001b[0;32m     42\u001b[0m             yield [A[v/3*3 + r][v%3*3 +c] \n\u001b[0;32m     43\u001b[0m                    for r in range(3) for c in range(3)]\n",
      "\u001b[1;31mTypeError\u001b[0m: 'zip' object is not subscriptable"
     ]
    }
   ],
   "source": [
    "grid = [['.', '.', '.', '1', '4', '.', '.', '2', '.'],\n",
    "        ['.', '.', '6', '.', '.', '.', '.', '.', '.'],\n",
    "        ['.', '.', '.', '.', '.', '.', '.', '.', '.'],\n",
    "        ['.', '.', '1', '.', '.', '.', '.', '.', '.'],\n",
    "        ['.', '6', '7', '.', '.', '.', '.', '.', '9'],\n",
    "        ['.', '.', '.', '.', '.', '.', '8', '1', '.'],\n",
    "        ['.', '3', '.', '.', '.', '.', '.', '.', '6'],\n",
    "        ['.', '.', '.', '.', '.', '7', '.', '.', '.'],\n",
    "        ['.', '.', '.', '5', '.', '.', '.', '7', '.']]\n",
    "\n",
    "\n",
    "grid2 = [[\".\",\".\",\".\",\".\",\"2\",\".\",\".\",\"9\",\".\"], \n",
    " [\".\",\".\",\".\",\".\",\"6\",\".\",\".\",\".\",\".\"], \n",
    " [\"7\",\"1\",\".\",\".\",\"7\",\"5\",\".\",\".\",\".\"], \n",
    " [\".\",\"7\",\".\",\".\",\".\",\".\",\".\",\".\",\".\"], \n",
    " [\".\",\".\",\".\",\".\",\"8\",\"3\",\".\",\".\",\".\"], \n",
    " [\".\",\".\",\"8\",\".\",\".\",\"7\",\".\",\"6\",\".\"], \n",
    " [\".\",\".\",\".\",\".\",\".\",\"2\",\".\",\".\",\".\"], \n",
    " [\".\",\"1\",\".\",\"2\",\".\",\".\",\".\",\".\",\".\"], \n",
    " [\".\",\"2\",\".\",\".\",\"3\",\".\",\".\",\".\",\".\"]]\n",
    "\n",
    "grid3 = [[\".\",\".\",\".\",\".\",\".\",\".\",\".\",\".\",\"2\"], \n",
    " [\".\",\".\",\".\",\".\",\".\",\".\",\"6\",\".\",\".\"], \n",
    " [\".\",\".\",\"1\",\"4\",\".\",\".\",\"8\",\".\",\".\"], \n",
    " [\".\",\".\",\".\",\".\",\".\",\".\",\".\",\".\",\".\"], \n",
    " [\".\",\".\",\".\",\".\",\".\",\".\",\".\",\".\",\".\"], \n",
    " [\".\",\".\",\".\",\".\",\"3\",\".\",\".\",\".\",\".\"], \n",
    " [\"5\",\".\",\"8\",\"6\",\".\",\".\",\".\",\".\",\".\"], \n",
    " [\".\",\"9\",\".\",\".\",\".\",\".\",\"4\",\".\",\".\"], \n",
    " [\".\",\".\",\".\",\".\",\"5\",\".\",\".\",\".\",\".\"]]\n",
    "\n",
    "\n",
    "def sudoku2(grid):\n",
    "    def unique(G):\n",
    "        G = [x for x in G if x != '.']\n",
    "        return len(set(G)) == len(G)\n",
    "    def groups(A):\n",
    "        B = zip(*A)\n",
    "        for v in range(9):\n",
    "            yield A[v]\n",
    "            yield B[v]\n",
    "            yield [A[v/3*3 + r][v%3*3 +c] \n",
    "                   for r in range(3) for c in range(3)]\n",
    "    \n",
    "    return all(unique(grp) for grp in groups(grid))\n",
    "\n",
    "\n",
    "assert sudoku2(grid)==True\n",
    "assert sudoku2(grid2)==False\n",
    "assert sudoku2(grid3)==True\n",
    "print(\"All tests passed!\")"
   ]
  },
  {
   "cell_type": "markdown",
   "metadata": {},
   "source": [
    "As you'd expect from a top answer, the code is fairly short and elegant. For some reason it's not executing, but it could just be that this was written in Python2 not 3. Interestingly, this user elected to create new functions to split the problem into two steps (A) create all scenarios that need to be evaluated, then (B) evaluate all scenarios. The user's idea to use `zip(*list)` was also quite good for this problem."
   ]
  },
  {
   "cell_type": "markdown",
   "metadata": {},
   "source": [
    "### Arrays Q4 - Final results\n",
    "\n",
    "**Date of completion:** 2/9/2018\n",
    "\n",
    "**Time to completion:** 3 hours\n",
    "\n",
    "**Hints used:** 0\n",
    "\n",
    "**Google search used:** No\n",
    "\n",
    "**All space/time challenges completed:** N/A"
   ]
  },
  {
   "cell_type": "markdown",
   "metadata": {},
   "source": [
    "<hr style=\"background-color: #D3D3D3; padding: 0.75px;\">"
   ]
  },
  {
   "cell_type": "markdown",
   "metadata": {},
   "source": [
    "<div align=\"right\">\n",
    "    <a href=\"#toc\">back to top</a>\n",
    "</div>\n",
    "\n",
    "<a id='question1_5'></a>\n",
    "\n",
    "### Question 5 - isCryptSolution\n",
    "\n",
    "A cryptarithm is a mathematical puzzle for which the goal is to find the correspondence between letters and digits, such that the given arithmetic equation consisting of letters holds true when the letters are converted to digits.\n",
    "\n",
    "You have an array of strings crypt, the cryptarithm, and an an array containing the mapping of letters and digits, solution. The array crypt will contain three non-empty strings that follow the structure: [word1, word2, word3], which should be interpreted as the word1 + word2 = word3 cryptarithm.\n",
    "\n",
    "If crypt, when it is decoded by replacing all of the letters in the cryptarithm with digits using the mapping in solution, becomes a valid arithmetic equation containing no numbers with leading zeroes, the answer is true. If it does not become a valid arithmetic solution, the answer is false.\n",
    "\n",
    "\n",
    "[input] array.string crypt\n",
    "\n",
    "An array of three non-empty strings containing only uppercase English letters.\n",
    "\n",
    "Guaranteed constraints:\n",
    "\n",
    "`crypt.length = 3,`\n",
    "\n",
    "`1 ≤ crypt[i].length ≤ 14.`\n",
    "\n",
    "\n",
    "[input] array.array.char solution\n",
    "\n",
    "An array consisting of pairs of characters that represent the correspondence between letters and numbers in the cryptarithm. The first character in the pair is an uppercase English letter, and the second one is a digit in the range from 0 to 9.\n",
    "\n",
    "Guaranteed constraints:\n",
    "\n",
    "`solution[i].length = 2`\n",
    "\n",
    "`'A' ≤ solution[i][0] ≤ 'Z'`\n",
    "\n",
    "`'0' ≤ solution[i][1] ≤ '9'`\n",
    "\n",
    "`solution[i][0] ≠ solution[j][0], i ≠ j`\n",
    "\n",
    "`solution[i][1] ≠ solution[j][1], i ≠ j`"
   ]
  },
  {
   "cell_type": "markdown",
   "metadata": {},
   "source": [
    "#### My answer"
   ]
  },
  {
   "cell_type": "code",
   "execution_count": 8,
   "metadata": {},
   "outputs": [
    {
     "name": "stdout",
     "output_type": "stream",
     "text": [
      "crypt: ['SEND', 'MORE', 'MONEY']\n",
      "solution: [['O', '0'], ['M', '1'], ['Y', '2'], ['E', '5'], ['N', '6'], ['D', '7'], ['R', '8'], ['S', '9']]\n",
      "answer: True\n",
      "Algorithm run-time: 0.00000661 seconds\n"
     ]
    }
   ],
   "source": [
    "crypt = [\"SEND\", \n",
    " \"MORE\", \n",
    " \"MONEY\"]\n",
    "solution =  [[\"O\",\"0\"], \n",
    " [\"M\",\"1\"], \n",
    " [\"Y\",\"2\"], \n",
    " [\"E\",\"5\"], \n",
    " [\"N\",\"6\"], \n",
    " [\"D\",\"7\"], \n",
    " [\"R\",\"8\"], \n",
    " [\"S\",\"9\"]]\n",
    "\n",
    "def isCryptSolution(crypt, solution):\n",
    "    \n",
    "    word_to_num = []\n",
    "    solution_dict = {}\n",
    "    \n",
    "    # turn solution into a dictionary so I don't have to iterate over it multiple times\n",
    "    for pair in solution:\n",
    "        solution_dict[pair[0]] = pair[1]\n",
    "    \n",
    "    for word in crypt:\n",
    "        tmp = \"\"\n",
    "        for letter in word:\n",
    "            tmp += solution_dict[letter]\n",
    "        word_to_num.append(tmp)\n",
    "        \n",
    "    # apparently it's not valid to have leading 0's in a number, like \"045\" != \"45\"...\n",
    "    if (word_to_num[0][0] == \"0\" and len(word_to_num[0]) != 1) or \\\n",
    "    (word_to_num[1][0] == \"0\" and len(word_to_num[1]) != 1) or \\\n",
    "    (word_to_num[2][0] == \"0\" and len(word_to_num[2]) != 1):\n",
    "        return False\n",
    "    \n",
    "    if (int(word_to_num[0]) + int(word_to_num[1])) == int(word_to_num[2]):\n",
    "        return True\n",
    "    else:\n",
    "        return False    \n",
    "\n",
    "print(\"crypt: {}\".format(crypt))\n",
    "print(\"solution: {}\".format(solution))\n",
    "print(\"answer: {}\".format(isCryptSolution(crypt,solution)))\n",
    "\n",
    "if __name__=='__main__':\n",
    "    print(\"Algorithm run-time: {:.8f} seconds\".format(timeit.timeit(\"isCryptSolution(crypt, solution)\", \n",
    "                        \"from __main__ import isCryptSolution, crypt, solution\", \n",
    "                        number=100)/100))"
   ]
  },
  {
   "cell_type": "markdown",
   "metadata": {},
   "source": [
    "#### Thoughts on my answer:\n",
    "\n",
    "This solution solves all test cases. There are no time or space constraints to this problem. An optimization I saw was converting the `solution` table to a dictionary so that instead of having to search $O(n*m)$ where $n=\\text{letters in solution}$ and $m=\\text{letters in crypt}$, I only need to go through `solution` once and from then on lookups would only cost $O(1)$ for a final runtime of $O(n+m)$."
   ]
  },
  {
   "cell_type": "markdown",
   "metadata": {},
   "source": [
    "#### Top user answer (not mine):"
   ]
  },
  {
   "cell_type": "code",
   "execution_count": 11,
   "metadata": {},
   "outputs": [
    {
     "name": "stdout",
     "output_type": "stream",
     "text": [
      "crypt: ['O', 'O', 'O']\n",
      "solution: [['O', '0'], ['M', '1'], ['Y', '2'], ['E', '5'], ['N', '6'], ['D', '7'], ['R', '8'], ['S', '9']]\n",
      "answer: True\n",
      "Algorithm run-time: 0.00000641 seconds\n"
     ]
    }
   ],
   "source": [
    "crypt = [\"SEND\", \n",
    " \"MORE\", \n",
    " \"MONEY\"]\n",
    "solution =  [[\"O\",\"0\"], \n",
    " [\"M\",\"1\"], \n",
    " [\"Y\",\"2\"], \n",
    " [\"E\",\"5\"], \n",
    " [\"N\",\"6\"], \n",
    " [\"D\",\"7\"], \n",
    " [\"R\",\"8\"], \n",
    " [\"S\",\"9\"]]\n",
    "\n",
    "def isCryptSolution(crypt, solution):\n",
    "    dic = {ord(c): d for c, d in solution}\n",
    "    *v, = map(lambda x: x.translate(dic), crypt)\n",
    "    return not any(x != \"0\" and x.startswith(\"0\") for x in v) and \\\n",
    "        int(v[0]) + int(v[1]) == int(v[2])\n",
    "    \n",
    "print(\"crypt: {}\".format(crypt))\n",
    "print(\"solution: {}\".format(solution))\n",
    "print(\"answer: {}\".format(isCryptSolution(crypt,solution)))\n",
    "\n",
    "if __name__=='__main__':\n",
    "    print(\"Algorithm run-time: {:.8f} seconds\".format(timeit.timeit(\"isCryptSolution(crypt, solution)\", \n",
    "                        \"from __main__ import isCryptSolution, crypt, solution\", \n",
    "                        number=100)/100))"
   ]
  },
  {
   "cell_type": "markdown",
   "metadata": {},
   "source": [
    "#### Thoughts on top user answer:\n",
    "\n",
    "As is expected from top voted answers, this algorithm is very concise, with only 3 lines of code. This user also saw the use in putting the `solution` table into a dictionary. This algorithm uses a compact `map(lambda)` structure to map the values of `crypt` to the values in their solution dict. I have mixed feelings about this structure as I don't think it's very readable but it also greatly simplifies the amount of code required for many tasks. Finally they use an `any()` call to concisely make sure there are no leading zeros. My check for leading zeros was much more verbose :)"
   ]
  },
  {
   "cell_type": "markdown",
   "metadata": {},
   "source": [
    "### Arrays Q5 - Final results\n",
    "\n",
    "**Date of completion:** 2/20/2018\n",
    "\n",
    "**Time to completion:** 30 mins\n",
    "\n",
    "**Hints used:** 0\n",
    "\n",
    "**Google search used:** No\n",
    "\n",
    "**All space/time challenges completed:** N/A\n",
    "    "
   ]
  },
  {
   "cell_type": "markdown",
   "metadata": {},
   "source": [
    "<hr style=\"background-color: #D3D3D3; padding: 0.75px;\">"
   ]
  },
  {
   "cell_type": "markdown",
   "metadata": {},
   "source": [
    "<a id='topic2'></a>\n",
    "\n",
    "\n",
    "# Linked Lists\n",
    "\n",
    "***"
   ]
  },
  {
   "cell_type": "markdown",
   "metadata": {},
   "source": [
    "<div align=\"right\">\n",
    "    <a href=\"#toc\">back to top</a>\n",
    "</div>\n",
    "\n",
    "<a id='question2_1'></a>\n",
    "\n",
    "### Question 1 - removeKFromList\n",
    "\n",
    "\n"
   ]
  },
  {
   "cell_type": "markdown",
   "metadata": {},
   "source": [
    "#### My answer"
   ]
  },
  {
   "cell_type": "code",
   "execution_count": null,
   "metadata": {
    "collapsed": true
   },
   "outputs": [],
   "source": []
  }
 ],
 "metadata": {
  "kernelspec": {
   "display_name": "Python 3",
   "language": "python",
   "name": "python3"
  },
  "language_info": {
   "codemirror_mode": {
    "name": "ipython",
    "version": 3
   },
   "file_extension": ".py",
   "mimetype": "text/x-python",
   "name": "python",
   "nbconvert_exporter": "python",
   "pygments_lexer": "ipython3",
   "version": "3.6.3"
  }
 },
 "nbformat": 4,
 "nbformat_minor": 2
}
