{
 "cells": [
  {
   "cell_type": "markdown",
   "metadata": {},
   "source": [
    "# Code Fights Problems\n",
    "\n",
    "This notebook details my work in completing the practice coding problems at codefights.com.\n",
    "\n",
    "I will try to be as detailed about my approach to the question by leaving iterations on the algorithm and notes about hints or google searches I had to do. I'll also try to track the time it takes me to finish each.\n",
    "\n",
    "Hopefully this notebook either shows off my coding ability or much more likely shows a trend of improvement in my ability as I progress through the notebook :D"
   ]
  },
  {
   "cell_type": "markdown",
   "metadata": {},
   "source": [
    "<hr style=\"background-color: black; padding: 1px;\">\n"
   ]
  },
  {
   "cell_type": "markdown",
   "metadata": {},
   "source": [
    "<a id=\"toc\"></a>\n",
    "\n",
    "## Table of Contents\n",
    "<ul>\n",
    "\n",
    "    <li><a href=\"#topic1\">Arrays</a></li>\n",
    "        <ol>\n",
    "            <li><a href=\"#question1_1\">firstDuplicate</a></li>\n",
    "            <li><a href=\"#question1_2\">firstNotRepeatingCharacter</a></li>\n",
    "            <li><a href=\"#question1_3\">rotateImage</a></li>\n",
    "        </ol>\n",
    "    <br>\n",
    "\n",
    "</ul>"
   ]
  },
  {
   "cell_type": "code",
   "execution_count": 97,
   "metadata": {
    "collapsed": true
   },
   "outputs": [],
   "source": [
    "# some basic imports that will be helpful\n",
    "import numpy as np\n",
    "import timeit"
   ]
  },
  {
   "cell_type": "markdown",
   "metadata": {},
   "source": [
    "<hr style=\"background-color: black; padding: 1px;\">\n"
   ]
  },
  {
   "cell_type": "markdown",
   "metadata": {},
   "source": [
    "<div align=\"right\">\n",
    "    <a href=\"#toc\">back to top</a>\n",
    "</div>\n",
    "<a id='topic1'></a>\n",
    "\n",
    "\n",
    "## Arrays\n",
    "\n",
    "***"
   ]
  },
  {
   "cell_type": "markdown",
   "metadata": {},
   "source": [
    "<a id='question1_1'></a>\n",
    "\n",
    "### <font color=\"blue\">Question 1 - firstDuplicate</font>\n",
    "\n",
    "Given an array of integers `a`, find the first duplicate in the array. If no duplicate exists, return -1. \n",
    "\n",
    "Note: `len(a)<=100,000` and `a[i]<=len(a)`\n",
    "\n",
    "Your solution must be $O(n)$ time complexity and as a challenge, try to make it $O(1)$ space complexity."
   ]
  },
  {
   "cell_type": "markdown",
   "metadata": {},
   "source": [
    "#### First try"
   ]
  },
  {
   "cell_type": "code",
   "execution_count": 112,
   "metadata": {},
   "outputs": [
    {
     "name": "stdout",
     "output_type": "stream",
     "text": [
      "1.5886552864685654e-06\n"
     ]
    }
   ],
   "source": [
    "test_array = [1,2,3,2,1]\n",
    "\n",
    "def firstDuplicate(a):\n",
    "    tmp = []\n",
    "    for num in a:\n",
    "        if num in tmp:\n",
    "            return num\n",
    "        tmp.append(num)\n",
    "    return -1\n",
    "\n",
    "#firstDuplicate(test_array)\n",
    "\n",
    "if __name__=='__main__':\n",
    "    print(timeit.timeit(\"firstDuplicate(test)\", \"from __main__ import firstDuplicate, test_array\", number=100)/100)"
   ]
  },
  {
   "cell_type": "markdown",
   "metadata": {},
   "source": [
    "The above algorithm solves the problem but it requires anywhere from $O(1)$ to $O(n)$ space complexity and in the worst scenario (no duplicates) has $O(n^2)$ time complexity.\n",
    "\n",
    "I couldn't think of a way to not make two loops so I looked at a hint to realize I should declare the length of the array instead of filling as a I go."
   ]
  },
  {
   "cell_type": "markdown",
   "metadata": {},
   "source": [
    "#### Second try - w/ 1 hint"
   ]
  },
  {
   "cell_type": "code",
   "execution_count": 118,
   "metadata": {},
   "outputs": [
    {
     "data": {
      "text/plain": [
       "-1"
      ]
     },
     "execution_count": 118,
     "metadata": {},
     "output_type": "execute_result"
    }
   ],
   "source": [
    "test = [1,2,3,5,6]\n",
    "#test = [i for i in range(100000)]\n",
    "\n",
    "def firstDuplicate(a):\n",
    "    tmp = [0]*100000\n",
    "    for num in a:\n",
    "        if tmp[num-1]:\n",
    "            return num\n",
    "        else:\n",
    "            tmp[num-1] = 1\n",
    "    return -1\n",
    "\n",
    "firstDuplicate(test)\n",
    "# if __name__=='__main__':\n",
    "#     print(timeit.timeit(\"firstDuplicate(test)\", \"from __main__ import firstDuplicate, test\", number=100)/100)"
   ]
  },
  {
   "cell_type": "markdown",
   "metadata": {},
   "source": [
    "This second try also solves the problem but now does so in $O(n)$ time. My naive first try actually performs better than this second try in situations where there is a duplicate that occurs relatively quickly in the array. Without testing why, I would guess that initializing `tmp = []` is much faster than executing `tmp = [0]*100000` and that causes the speed boost for easy cases. Unfortunately this is still $O(n)$ space not $O(1)$."
   ]
  },
  {
   "cell_type": "markdown",
   "metadata": {},
   "source": [
    "#### Better answer (I didn't think of this)"
   ]
  },
  {
   "cell_type": "code",
   "execution_count": null,
   "metadata": {
    "collapsed": true
   },
   "outputs": [],
   "source": [
    "def firstDuplicate(a):\n",
    "    for i in a:\n",
    "        a[abs(i)-1] *= -1\n",
    "        if a[abs(i)-1] > 0:\n",
    "            return abs(i)\n",
    "    return -1"
   ]
  },
  {
   "cell_type": "markdown",
   "metadata": {},
   "source": [
    "This answer is both $O(n)$ time and $O(1)$ space. Because we only need duplicates (a binary idea), this solution uses negative signs and absolute values to encode whether or not a number has been seen right into the index of the array. Very clever..."
   ]
  },
  {
   "cell_type": "markdown",
   "metadata": {},
   "source": [
    "### Arrays Q1 - Final results\n",
    "\n",
    "**Date of completion:** 2/8/2018\n",
    "\n",
    "**Time to completion:** 3 hours\n",
    "\n",
    "**Hints used:** 2\n",
    "\n",
    "**Google search used:** No\n",
    "\n",
    "**All space/time challenges completed:** No"
   ]
  },
  {
   "cell_type": "markdown",
   "metadata": {},
   "source": [
    "<hr style=\"background-color: #D3D3D3; padding: 0.75px;\">"
   ]
  },
  {
   "cell_type": "markdown",
   "metadata": {
    "collapsed": true
   },
   "source": [
    "<a id='question1_2'></a>\n",
    "\n",
    "### <font color=\"blue\">Question 2 - firstNotRepeatingCharacter</font>\n",
    "\n",
    "Given a string `s`, find the first non-repeat character. Should be $O(n)$ time and $O(1)$ space.\n",
    "\n",
    "`len(s) < 10^5`\n",
    "\n",
    "For example, `s = \"abacabad\"` should return `'c'`. If all characters repeat then you should return `_`.\n",
    "\n",
    "Constraints: string will only have lowercase letters and will be between 1 and 100,000 characters long.\n",
    "\n"
   ]
  },
  {
   "cell_type": "markdown",
   "metadata": {},
   "source": [
    "#### First try - used 1 hint\n",
    "\n"
   ]
  },
  {
   "cell_type": "code",
   "execution_count": 145,
   "metadata": {},
   "outputs": [
    {
     "name": "stdout",
     "output_type": "stream",
     "text": [
      "0.09784615461161593\n"
     ]
    }
   ],
   "source": [
    "test = \"a\"*100000\n",
    "\n",
    "def firstNotRepeatingCharacter(s):\n",
    "    \n",
    "    alphabet = []\n",
    "    \n",
    "    for letter in s:\n",
    "        \n",
    "        check = False\n",
    "        num = ord(letter)\n",
    "        \n",
    "        for i,val in enumerate(alphabet):\n",
    "            if num == abs(val):\n",
    "                alphabet[i] = abs(alphabet[i])*-1\n",
    "                check = True\n",
    "        \n",
    "        if check == False:\n",
    "            alphabet.append(num)\n",
    "            \n",
    "    for num in alphabet:\n",
    "        if num > 0:\n",
    "            return chr(num)\n",
    "        \n",
    "    return \"_\"\n",
    "\n",
    "\n",
    "#firstNotRepeatingCharacter(test)        \n",
    "if __name__=='__main__':\n",
    "    print(timeit.timeit(\"firstNotRepeatingCharacter(test)\", \"from __main__ import firstNotRepeatingCharacter, test\", \n",
    "                        number=100)/100)"
   ]
  },
  {
   "cell_type": "markdown",
   "metadata": {},
   "source": [
    "This algorithm passed all tests and is technically $O(n)$ time and $O(1)$ space. I don't like how many lines of code it contains as I feel there is some redundancy or unecessary check steps being performed. The hint I received told me that making a list of size independent of n is still O(1) additional space. I was already using that idea before the hint but it was nice confirmation that I was in the right direction. I also had to google the ord() chr() functions... I was initially trying to do int(\"a\") forgetting that what I wanted was ord()."
   ]
  },
  {
   "cell_type": "markdown",
   "metadata": {},
   "source": [
    "#### Top user answer on Codefights website (not my answer)"
   ]
  },
  {
   "cell_type": "code",
   "execution_count": 144,
   "metadata": {},
   "outputs": [
    {
     "name": "stdout",
     "output_type": "stream",
     "text": [
      "0.0536231142852921\n"
     ]
    }
   ],
   "source": [
    "test = \"a\"*100000\n",
    "\n",
    "def firstNotRepeatingCharacter(s):\n",
    "    for c in s:\n",
    "        if s.find(c) == s.rfind(c):\n",
    "            return c\n",
    "    return '_'\n",
    "\n",
    "#firstNotRepeatingCharacter(test)        \n",
    "if __name__=='__main__':\n",
    "    print(timeit.timeit(\"firstNotRepeatingCharacter(test)\", \"from __main__ import firstNotRepeatingCharacter, test\", \n",
    "                        number=100)/100)"
   ]
  },
  {
   "cell_type": "markdown",
   "metadata": {},
   "source": [
    "This answer is much more concise. I did not know about python's rfind() prior to seeing this solution. However, the logic of this concise answer is essentially \"for each letter in our test string, look through the whole string starting from the back to find a duplicate. When you don't find a duplicate, return\". I don't think this solution is $O(n)$ time and thus not a valid answer."
   ]
  },
  {
   "cell_type": "markdown",
   "metadata": {},
   "source": [
    "### Arrays Q2 - Final results\n",
    "\n",
    "**Date of completion:** 2/8/2018\n",
    "\n",
    "**Time to completion:** 45 minutes\n",
    "\n",
    "**Hints used:** 1\n",
    "\n",
    "**Google search used:** Yes\n",
    "\n",
    "**All space/time challenges completed:** Yes"
   ]
  },
  {
   "cell_type": "markdown",
   "metadata": {},
   "source": [
    "<hr style=\"background-color: #D3D3D3; padding: 0.75px;\">"
   ]
  },
  {
   "cell_type": "markdown",
   "metadata": {},
   "source": [
    "<a id='question1_3'></a>\n",
    "\n",
    "### <font color=\"blue\">Question 3 - rotateImage</font>\n",
    "\n",
    "Note: Try to solve this task in-place (with O(1) additional memory), since this is what you'll be asked to do during an interview.\n",
    "\n",
    "You are given an n x n 2D matrix that represents an image. Rotate the image by 90 degrees (clockwise).\n",
    "\n",
    "Guaranteed constraints:\n",
    "1 ≤ a.length ≤ 100,\n",
    "a[i].length = a.length,\n",
    "1 ≤ a[i][j] ≤ 104."
   ]
  },
  {
   "cell_type": "markdown",
   "metadata": {},
   "source": [
    "#### First try"
   ]
  },
  {
   "cell_type": "code",
   "execution_count": 146,
   "metadata": {},
   "outputs": [
    {
     "data": {
      "text/plain": [
       "3"
      ]
     },
     "execution_count": 146,
     "metadata": {},
     "output_type": "execute_result"
    }
   ],
   "source": [
    "a = [[1, 2, 3],\n",
    "     [4, 5, 6],\n",
    "     [7, 8, 9]]\n",
    "\n",
    "len(a)"
   ]
  },
  {
   "cell_type": "code",
   "execution_count": null,
   "metadata": {
    "collapsed": true
   },
   "outputs": [],
   "source": [
    "a = [[1, 2, 3],\n",
    "     [4, 5, 6],\n",
    "     [7, 8, 9]]\n",
    "\n",
    "\n",
    "def rotateImage(a):\n",
    "\n",
    "        \n",
    "        \n",
    "\n",
    "\n",
    "\n",
    "\n",
    "\n",
    "\n",
    "\n",
    "\n",
    "\n"
   ]
  }
 ],
 "metadata": {
  "kernelspec": {
   "display_name": "Python 3",
   "language": "python",
   "name": "python3"
  },
  "language_info": {
   "codemirror_mode": {
    "name": "ipython",
    "version": 3
   },
   "file_extension": ".py",
   "mimetype": "text/x-python",
   "name": "python",
   "nbconvert_exporter": "python",
   "pygments_lexer": "ipython3",
   "version": "3.6.3"
  }
 },
 "nbformat": 4,
 "nbformat_minor": 2
}
